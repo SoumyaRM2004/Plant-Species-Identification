{
 "cells": [
  {
   "cell_type": "markdown",
   "id": "89b1f400",
   "metadata": {},
   "source": [
    "# 1. Preprocessing\n"
   ]
  },
  {
   "cell_type": "code",
   "execution_count": 22,
   "id": "066be733",
   "metadata": {},
   "outputs": [],
   "source": [
    "import cv2\n",
    "import numpy as np\n",
    "from skimage.feature import local_binary_pattern, graycomatrix, graycoprops\n",
    "from skimage.morphology import skeletonize\n",
    "from skimage.util import img_as_ubyte\n",
    "from scipy.ndimage import gaussian_filter\n",
    "import math\n",
    "\n",
    "def preprocess_image(image):\n",
    "    gray = cv2.cvtColor(image, cv2.COLOR_BGR2GRAY)\n",
    "    blurred = gaussian_filter(gray, sigma=1.0)\n",
    "    enhanced = cv2.equalizeHist(blurred)\n",
    "    return enhanced\n"
   ]
  },
  {
   "cell_type": "markdown",
   "id": "265b5809",
   "metadata": {},
   "source": [
    "# 2. Custom Edge Detection (Gradient + Adaptive Threshold)"
   ]
  },
  {
   "cell_type": "code",
   "execution_count": 23,
   "id": "8039f036",
   "metadata": {},
   "outputs": [],
   "source": [
    "def custom_edge_detection(image):\n",
    "    # Custom gradient filters\n",
    "    kernel_x = np.array([[-1, 0, 1],\n",
    "                         [-2, 0, 2],\n",
    "                         [-1, 0, 1]])\n",
    "    kernel_y = np.array([[-1, -2, -1],\n",
    "                         [ 0,  0,  0],\n",
    "                         [ 1,  2,  1]])\n",
    "\n",
    "    grad_x = cv2.filter2D(image, -1, kernel_x)\n",
    "    grad_y = cv2.filter2D(image, -1, kernel_y)\n",
    "\n",
    "    magnitude = np.sqrt(grad_x**2 + grad_y**2)\n",
    "    magnitude = np.uint8(magnitude / magnitude.max() * 255)\n",
    "\n",
    "    # Adaptive thresholding\n",
    "    _, edge_map = cv2.threshold(magnitude, 0, 255, cv2.THRESH_BINARY + cv2.THRESH_OTSU)\n",
    "    return edge_map"
   ]
  },
  {
   "cell_type": "markdown",
   "id": "6ade0eb9",
   "metadata": {},
   "source": [
    "# 3. Leaf Segmentation"
   ]
  },
  {
   "cell_type": "code",
   "execution_count": 24,
   "id": "32ae198e",
   "metadata": {},
   "outputs": [],
   "source": [
    "def segment_leaf(image):\n",
    "    _, thresh = cv2.threshold(image, 0, 255, cv2.THRESH_BINARY + cv2.THRESH_OTSU)\n",
    "    contours, _ = cv2.findContours(thresh, cv2.RETR_EXTERNAL, cv2.CHAIN_APPROX_SIMPLE)\n",
    "    if not contours:\n",
    "        return None, None\n",
    "    largest_contour = max(contours, key=cv2.contourArea)\n",
    "    mask = np.zeros_like(image)\n",
    "    cv2.drawContours(mask, [largest_contour], -1, 255, -1)\n",
    "    return mask, largest_contour"
   ]
  },
  {
   "cell_type": "markdown",
   "id": "715c6c3d",
   "metadata": {},
   "source": [
    "# 4. Feature Extraction"
   ]
  },
  {
   "cell_type": "markdown",
   "id": "d80234e7",
   "metadata": {},
   "source": [
    "A. Shape Features"
   ]
  },
  {
   "cell_type": "code",
   "execution_count": 25,
   "id": "1ea5d943",
   "metadata": {},
   "outputs": [],
   "source": [
    "def extract_shape_features(contour):\n",
    "    x, y, w, h = cv2.boundingRect(contour)\n",
    "    aspect_ratio = float(w) / h\n",
    "    area = cv2.contourArea(contour)\n",
    "    rect_area = w * h\n",
    "    extent = float(area) / rect_area\n",
    "    hull = cv2.convexHull(contour)\n",
    "    hull_area = cv2.contourArea(hull)\n",
    "    solidity = float(area) / hull_area\n",
    "    moments = cv2.moments(contour)\n",
    "    hu_moments = cv2.HuMoments(moments).flatten()\n",
    "    return [aspect_ratio, extent, solidity] + hu_moments.tolist()"
   ]
  },
  {
   "cell_type": "markdown",
   "id": "ef673bf7",
   "metadata": {},
   "source": [
    "B. Texture Features"
   ]
  },
  {
   "cell_type": "code",
   "execution_count": 26,
   "id": "72ce4691",
   "metadata": {},
   "outputs": [],
   "source": [
    "def extract_texture_features(image, mask):\n",
    "    masked = cv2.bitwise_and(image, image, mask=mask)\n",
    "    lbp = local_binary_pattern(masked, P=8, R=1, method='uniform')\n",
    "    lbp_hist, _ = np.histogram(lbp.ravel(), bins=np.arange(0, 11), density=True)\n",
    "\n",
    "    glcm = graycomatrix(masked, [1], [0], levels=256, symmetric=True, normed=True)\n",
    "    contrast = graycoprops(glcm, 'contrast')[0, 0]\n",
    "    homogeneity = graycoprops(glcm, 'homogeneity')[0, 0]\n",
    "    entropy = -np.sum(glcm * np.log2(glcm + 1e-10))\n",
    "\n",
    "    return lbp_hist.tolist() + [contrast, homogeneity, entropy]\n"
   ]
  },
  {
   "cell_type": "markdown",
   "id": "72e6ff23",
   "metadata": {},
   "source": [
    "C. Vein Features"
   ]
  },
  {
   "cell_type": "code",
   "execution_count": 27,
   "id": "42be4afc",
   "metadata": {},
   "outputs": [],
   "source": [
    "def extract_vein_features(mask):\n",
    "    skeleton = skeletonize(mask // 255)\n",
    "    vein_density = np.sum(skeleton) / np.sum(mask // 255)\n",
    "\n",
    "    # Fractal dimension (box-counting method)\n",
    "    def fractal_dimension(Z):\n",
    "        def boxcount(Z, k):\n",
    "            S = np.add.reduceat(\n",
    "                np.add.reduceat(Z, np.arange(0, Z.shape[0], k), axis=0),\n",
    "                                   np.arange(0, Z.shape[1], k), axis=1)\n",
    "            return len(np.where(S > 0)[0])\n",
    "        Z = Z < 0.5\n",
    "        p = min(Z.shape)\n",
    "        n = 2**np.floor(np.log2(p))\n",
    "        sizes = 2**np.arange(int(np.log2(n)), 1, -1)\n",
    "        counts = [boxcount(Z, size) for size in sizes]\n",
    "        coeffs = np.polyfit(np.log(sizes), np.log(counts), 1)\n",
    "        return -coeffs[0]\n",
    "\n",
    "    fractal_dim = fractal_dimension(skeleton)\n",
    "    return [vein_density, fractal_dim]"
   ]
  },
  {
   "cell_type": "markdown",
   "id": "9dc27fda",
   "metadata": {},
   "source": [
    "D. Edge Features"
   ]
  },
  {
   "cell_type": "code",
   "execution_count": 28,
   "id": "bbfa493b",
   "metadata": {},
   "outputs": [],
   "source": [
    "def extract_edge_features(edge_map, mask):\n",
    "    edge_masked = cv2.bitwise_and(edge_map, edge_map, mask=mask)\n",
    "    edge_density = np.sum(edge_masked) / np.sum(mask)\n",
    "\n",
    "    # Orientation histogram\n",
    "    sobelx = cv2.Sobel(edge_masked, cv2.CV_64F, 1, 0, ksize=5)\n",
    "    sobely = cv2.Sobel(edge_masked, cv2.CV_64F, 0, 1, ksize=5)\n",
    "    angles = np.arctan2(sobely, sobelx) * 180 / np.pi\n",
    "    hist, _ = np.histogram(angles, bins=8, range=(-180, 180), density=True)\n",
    "\n",
    "    return [edge_density] + hist.tolist()"
   ]
  },
  {
   "cell_type": "markdown",
   "id": "9e9de405",
   "metadata": {},
   "source": [
    "# 5. Feature Fusion"
   ]
  },
  {
   "cell_type": "code",
   "execution_count": 29,
   "id": "5b31a8f1",
   "metadata": {},
   "outputs": [],
   "source": [
    "def extract_all_features(image):\n",
    "    preprocessed = preprocess_image(image)\n",
    "    edge_map = custom_edge_detection(preprocessed)\n",
    "    mask, contour = segment_leaf(preprocessed)\n",
    "\n",
    "    if mask is None or contour is None:\n",
    "        return None  # Not a leaf\n",
    "\n",
    "    shape_feats = extract_shape_features(contour)\n",
    "    texture_feats = extract_texture_features(preprocessed, mask)\n",
    "    vein_feats = extract_vein_features(mask)\n",
    "    edge_feats = extract_edge_features(edge_map, mask)\n",
    "\n",
    "    feature_vector = shape_feats + texture_feats + vein_feats + edge_feats\n",
    "    return feature_vector\n"
   ]
  },
  {
   "cell_type": "code",
   "execution_count": 36,
   "id": "72645d97",
   "metadata": {},
   "outputs": [
    {
     "name": "stdout",
     "output_type": "stream",
     "text": [
      "Feature vector shape: (34,)\n",
      "Sample features: [1.8604651162790697, 0.9345220930232558, 0.963286269057436, 0.20412059912524852, 0.014292493816844741]\n",
      "Contains NaNs: False\n",
      "Contains Infs: False\n"
     ]
    }
   ],
   "source": [
    "image = cv2.imread('a.jpg')\n",
    "\n",
    "features = extract_all_features(image)\n",
    "print(\"Feature vector shape:\", np.shape(features))\n",
    "print(\"Sample features:\", features[:5])  # Show first few values\n",
    "\n",
    "print(\"Contains NaNs:\", np.isnan(features).any())\n",
    "print(\"Contains Infs:\", np.isinf(features).any())\n"
   ]
  }
 ],
 "metadata": {
  "kernelspec": {
   "display_name": "env (3.10.0)",
   "language": "python",
   "name": "python3"
  },
  "language_info": {
   "codemirror_mode": {
    "name": "ipython",
    "version": 3
   },
   "file_extension": ".py",
   "mimetype": "text/x-python",
   "name": "python",
   "nbconvert_exporter": "python",
   "pygments_lexer": "ipython3",
   "version": "3.10.0"
  }
 },
 "nbformat": 4,
 "nbformat_minor": 5
}
